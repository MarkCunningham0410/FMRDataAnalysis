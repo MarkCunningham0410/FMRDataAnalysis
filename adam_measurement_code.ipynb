{
 "cells": [
  {
   "cell_type": "code",
   "execution_count": null,
   "metadata": {},
   "outputs": [],
   "source": [
    "import qkit\n",
    "qkit.cfg['load_visa'] = True\n",
    "qkit.cfg['datafolder_structure'] = 2\n",
    "# New Qkit does not create folder. Must be done before run! (think a txt doc is created which causes this)\n",
    "qkit.cfg['datadir'] = r'd:\\notebooks\\Adam_FMR'\n",
    "qkit.cfg['run_id'] = 'Test_Rair_Py_21_07_22'\n",
    "qkit.cfg['user'] = 'Rair'\n",
    "qkit.start()"
   ]
  },
  {
   "cell_type": "code",
   "execution_count": null,
   "metadata": {},
   "outputs": [],
   "source": [
    "from qkit.measure.spectroscopy import spectroscopy\n",
    "from qkit.storage.store import Data\n",
    "import qkit.measure.samples_class as sc\n",
    "import matplotlib.pyplot as plt\n",
    "from qkit.analysis.circle_fit.circle_fit_2019 import circuit\n",
    "from scipy import signal as sg\n",
    "import qkit.analysis.qfit as qfit\n",
    "from importlib import reload\n",
    "import qkit.gui.notebook.Progress_Bar as Pb\n",
    "import qkit.measure.spectroscopy.spectroscopy as spectroscopy\n",
    "from importlib import reload\n",
    "import numpy as np\n",
    "import time"
   ]
  },
  {
   "cell_type": "code",
   "execution_count": null,
   "metadata": {},
   "outputs": [],
   "source": [
    "caen = qkit.instruments.create('caen', 'Caen_FAST_PS', address='10.22.197.101')\n",
    "vna = qkit.instruments.create('vna', 'ZVA_40_VNA', address='GPIB0::20::INSTR')\n",
    "#hall_probe = qkit.instruments.create('hall_probe', 'Magnet_Physik_FH_54', address='ASRL3::INSTR')"
   ]
  },
  {
   "cell_type": "code",
   "execution_count": null,
   "metadata": {},
   "outputs": [],
   "source": [
    "smpl = sc.Sample()\n",
    "s = spectroscopy.spectrum(vna = vna, exp_name = '', sample = smpl)\n",
    "\n",
    "comment = \"\"\"\n",
    "    test to see VNA second PCB\n",
    "    \"\"\"\n",
    "s.comment = comment\n",
    "s.measure_1D()"
   ]
  },
  {
   "cell_type": "code",
   "execution_count": null,
   "metadata": {},
   "outputs": [],
   "source": [
    "caen.on()\n",
    "caen.get_current()\n",
    "\n",
    "vna.set_ifbandwidth(3e3)\n",
    "vna.set_power(-5)\n",
    "vna.set_startfreq(3.00e9) # use the correct values should be somewhere between 4 and 6 GHz\n",
    "vna.set_stopfreq(15.00e9)\n",
    "vna.set_nop(5001)"
   ]
  },
  {
   "cell_type": "code",
   "execution_count": null,
   "metadata": {},
   "outputs": [],
   "source": [
    "start_current = -4.1\n",
    "stop_current = 4.1\n",
    "currents = np.arange(start_current, stop_current, 0.1)\n",
    "\n",
    "# change the current function accordingly\n",
    "s.set_x_parameters(currents, 'current', caen.ramp_current, 'A' )\n",
    "\n",
    "comment = \"\"\"\n",
    "    Run test. CoRu PLATE, second PCB board with fibre glass support. \n",
    "    Ramping tranmsission line on CAENel from 0.5 to 2.5 A\n",
    "    \"\"\"\n",
    "s.comment = comment\n",
    "s.set_resonator_fit(fit_resonator=False)"
   ]
  },
  {
   "cell_type": "code",
   "execution_count": null,
   "metadata": {},
   "outputs": [],
   "source": [
    "# x_func gets called for every value of i. Here it would be not necessary to define a function for only the ramp fct,\n",
    "# it will be useful in the next example.\n",
    "def x_func(i):\n",
    "    return caen.ramp_current(i, 1e-1)\n",
    "\n",
    "#s.set_log_function(func=[hall_probe.get_field], name=['Field'], unit=['mT'])\n",
    "\n",
    "s.set_x_parameters(x_vec = np.arange(0.1, 4.0, 0.1),\n",
    "                  x_coordname = 'current',\n",
    "                  x_set_obj = x_func,\n",
    "                  x_unit = 'A')\n",
    "\n",
    "\n",
    "s.measure_2D()\n",
    "caen.ramp_current(0, 3)"
   ]
  },
  {
   "cell_type": "code",
   "execution_count": null,
   "metadata": {},
   "outputs": [],
   "source": [
    "hdf1 = Data(r\"d:\\notebooks\\Adam_FMR/Test_Rair_Py_21_07_22/Rair/RFMP68_2D_current/RFMP68_2D_current.h5\")\n",
    "#hdf1 = Data(r\"d:\\notebooks\\Luke_LiFe_Tests/Test_Rair_FMR_CoRu_02_11_21/Luke/R1Y5D8_2D_current/R1Y5D8_2D_current.h5\")\n",
    "amp1 = np.transpose(hdf1.data.amplitude[:])\n",
    "amp1dB = 20*np.log10(amp1)\n",
    "freq1 = hdf1.data.frequency[:]/1e9\n",
    "current1 = hdf1.data.current[:]\n",
    "phase1 = np.transpose(np.unwrap(hdf1.data.phase))\n",
    "\n",
    "hdf2 = Data(r\"d:\\notebooks\\Adam_FMR/Test_Rair_Py_21_07_22/Rair/RFMP68_2D_current/RFMP68_2D_current.h5\")\n",
    "amp2 = np.transpose(hdf2.data.amplitude[:])\n",
    "amp2dB = 20*np.log10(amp2)\n",
    "freq2 = hdf2.data.frequency[:]/1e9\n",
    "\n",
    "current2 = hdf2.data.current[:]\n",
    "phase2 = np.transpose(np.unwrap(hdf2.data.phase))"
   ]
  },
  {
   "cell_type": "code",
   "execution_count": null,
   "metadata": {},
   "outputs": [],
   "source": [
    "rows1=amp1.shape[0]\n",
    "cols1=amp1.shape[1]\n",
    "\n",
    "namp1=np.zeros((rows1,cols1))\n",
    "namp1dB=np.zeros((rows1,cols1))\n",
    "nphase1=np.zeros((rows1,cols1))\n",
    "for x in range(0, cols1 - 1):\n",
    "    for y in range(0, rows1 -1):\n",
    "        namp1[y,x]=(amp1[y,x]/amp1[y,0])\n",
    "        namp1dB[y,x]=20*np.log10(amp1[y,x])-20*np.log10(amp1[y,0])\n",
    "        nphase1[y,x] = phase1[y,x] - phase1[y,0]"
   ]
  },
  {
   "cell_type": "code",
   "execution_count": null,
   "metadata": {},
   "outputs": [],
   "source": [
    "#rows2=amp2.shape[0]\n",
    "#cols2=amp2.shape[1]\n",
    "\n",
    "#namp2=np.zeros((rows2,cols2))\n",
    "#namp2dB=np.zeros((rows2,cols2))\n",
    "#nphase2=np.zeros((rows2,cols2))\n",
    "#for x in range(0, cols2 - 1):\n",
    "#    for y in range(0, rows2 -1):\n",
    "#        namp2[y,x]=(amp2[y,x]/amp2[y,0])\n",
    "#        namp2dB[y,x]=20*np.log10(amp2[y,x])-20*np.log10(amp2[y,0])\n",
    "#        nphase2[y,x] = phase2[y,x] - phase2[y,0]"
   ]
  },
  {
   "cell_type": "code",
   "execution_count": null,
   "metadata": {},
   "outputs": [],
   "source": [
    "plt.figure(figsize=(13,10))\n",
    "plt.pcolormesh(current1[:],freq1[:],namp1dB[:])\n",
    "cb = plt.colorbar()\n",
    "cb.ax.tick_params(labelsize=18)\n",
    "plt.tick_params(labelsize=18)\n",
    "#plt.xticks(size = 18)\n",
    "#plt.yticks(size = 18)\n",
    "plt.title('Normalised Amplitude', fontsize=22)\n",
    "plt.xlabel('Current [A]', fontsize=18)\n",
    "plt.ylabel('Frequency [GHz]', fontsize=18)"
   ]
  }
 ],
 "metadata": {
  "kernelspec": {
   "display_name": "Python 3.9.7 ('FMR')",
   "language": "python",
   "name": "python3"
  },
  "language_info": {
   "name": "python",
   "version": "3.9.7"
  },
  "orig_nbformat": 4,
  "vscode": {
   "interpreter": {
    "hash": "f757521b403420eba98866102d30ebff36e01fc61a9833cee47beb0392de303d"
   }
  }
 },
 "nbformat": 4,
 "nbformat_minor": 2
}
