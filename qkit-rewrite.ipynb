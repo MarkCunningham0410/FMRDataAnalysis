{
 "cells": [
  {
   "cell_type": "code",
   "execution_count": null,
   "metadata": {},
   "outputs": [],
   "source": [
    "import qkit\n",
    "from qkit.measure import samples_class\n",
    "import numpy as np\n",
    "from qkit.measure.spectroscopy import spectroscopy"
   ]
  },
  {
   "cell_type": "code",
   "execution_count": null,
   "metadata": {},
   "outputs": [],
   "source": [
    "def qkit_setup():\n",
    "\n",
    "    qkit.cfg['load_visa'] = True\n",
    "    qkit.cfg['datafolder_structure'] = 2\n",
    "    # New Qkit does not create folder. Must be done before run! (think a txt doc is created which causes this)\n",
    "    qkit.cfg['datadir'] = r'd:\\notebooks\\Adam_FMR'\n",
    "    qkit.cfg['run_id'] = 'Test_Rair_Py_21_07_22'\n",
    "    qkit.cfg['user'] = 'Rair'\n",
    "\n",
    "    return"
   ]
  },
  {
   "cell_type": "code",
   "execution_count": null,
   "metadata": {},
   "outputs": [],
   "source": [
    "def instrument_setup():\n",
    "    caen = qkit.instruments.create('caen', 'Caen_FAST_PS', address='10.22.197.101')\n",
    "    vna = qkit.instruments.create('vna', 'ZVA_40_VNA', address='GPIB0::20::INSTR')\n",
    "\n",
    "    return caen, vna"
   ]
  },
  {
   "cell_type": "code",
   "execution_count": null,
   "metadata": {},
   "outputs": [],
   "source": [
    "def sample_setup(vna):\n",
    "    our_sample = samples_class.Sample()\n",
    "    sample_spectrum = spectroscopy.spectrum(vna = vna, exp_name = '', sample = our_sample)\n",
    "\n",
    "    return sample_spectrum"
   ]
  },
  {
   "cell_type": "code",
   "execution_count": null,
   "metadata": {},
   "outputs": [],
   "source": [
    "def caen_vna_setup(caen, vna):\n",
    "    caen.on()\n",
    "    caen.get_current()\n",
    "\n",
    "    vna.set_ifbandwidth(3e3)\n",
    "    vna.set_power(-5)\n",
    "    vna.set_startfreq(3.00e9) # use the correct values should be somewhere between 4 and 6 GHz\n",
    "    vna.set_stopfreq(15.00e9)\n",
    "    vna.set_nop(5001)\n",
    "\n",
    "    return"
   ]
  },
  {
   "cell_type": "code",
   "execution_count": null,
   "metadata": {},
   "outputs": [],
   "source": [
    "def _current_ramping_x(caen, i):\n",
    "    return caen.ramp_current(i, 1e-1)\n",
    "\n",
    "\n",
    "def spectrum_main(spectrum, caen):\n",
    "    spectrum.set_resonator_fit(fit_resonator=False)\n",
    "\n",
    "    spectrum.set_x_parameters(x_vec = np.arange(-4, 4.0, 0.05),\n",
    "                    x_coordname = 'current',\n",
    "                    x_set_obj = _current_ramping_x, #potential bug here\n",
    "                    x_unit = 'A')\n",
    "\n",
    "    spectrum.measure_2D()\n",
    "\n"
   ]
  },
  {
   "cell_type": "code",
   "execution_count": null,
   "metadata": {},
   "outputs": [],
   "source": [
    "def main():\n",
    "    qkit.start()\n",
    "    caen, vna = instrument_setup()\n",
    "    caen_vna_setup(caen, vna)\n",
    "    spectrum = sample_setup(vna)\n",
    "    spectrum_main(spectrum, caen)\n",
    "\n",
    "    caen.ramp_current(0, 3)\n",
    "\n"
   ]
  }
 ],
 "metadata": {
  "kernelspec": {
   "display_name": "Python 3.9.7 ('FMR')",
   "language": "python",
   "name": "python3"
  },
  "language_info": {
   "name": "python",
   "version": "3.9.7"
  },
  "orig_nbformat": 4,
  "vscode": {
   "interpreter": {
    "hash": "f757521b403420eba98866102d30ebff36e01fc61a9833cee47beb0392de303d"
   }
  }
 },
 "nbformat": 4,
 "nbformat_minor": 2
}
