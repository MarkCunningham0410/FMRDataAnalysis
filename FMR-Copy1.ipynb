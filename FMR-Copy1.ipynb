{
 "cells": [
  {
   "cell_type": "code",
   "execution_count": 3,
   "id": "greatest-cruise",
   "metadata": {},
   "outputs": [
    {
     "name": "stdout",
     "output_type": "stream",
     "text": [
      "QKIT configuration initialized -> available as qkit.cfg[...]\n",
      "Starting QKIT framework ... -> qkit.core.startup\n",
      "Loading module ... S10_logging.py\n",
      "Loading module ... S14_setup_directories.py\n",
      "Loading module ... S16_available_modules.py\n",
      "Loading module ... S20_check_for_updates.py\n",
      "Loading module ... S25_info_service.py\n",
      "Loading module ... S30_qkit_start.py\n",
      "Loading module ... S65_load_RI_service.py\n",
      "Loading module ... S70_load_visa.py\n",
      "Loading module ... S80_load_file_service.py\n",
      "Loading module ... S85_init_measurement.py\n",
      "Initialized the file info database (qkit.fid) in 0.033 seconds.\n"
     ]
    },
    {
     "data": {
      "application/vnd.jupyter.widget-view+json": {
       "model_id": "3481747b20e54712a3b150b2a6339326",
       "version_major": 2,
       "version_minor": 0
      },
      "text/plain": [
       "HBox(children=(Text(value='Test_Rair_Py_21_07_22', description='Please check: Run ID', placeholder='***RUN_ID …"
      ]
     },
     "metadata": {},
     "output_type": "display_data"
    },
    {
     "name": "stdout",
     "output_type": "stream",
     "text": [
      "Loading module ... S98_started.py\n",
      "Loading module ... S99_init_user.py\n"
     ]
    }
   ],
   "source": [
    "import qkit\n",
    "qkit.cfg['load_visa'] = True\n",
    "qkit.cfg['datafolder_structure'] = 2\n",
    "# New Qkit does not create folder. Must be done before run! (think a txt doc is created which causes this)\n",
    "qkit.cfg['datadir'] = r'd:\\notebooks\\Adam_FMR'\n",
    "qkit.cfg['run_id'] = 'Test_Rair_Py_21_07_22'\n",
    "qkit.cfg['user'] = 'Rair'\n",
    "qkit.start()\n",
    "\n",
    "from qkit.measure.spectroscopy import spectroscopy\n",
    "from qkit.storage.store import Data\n",
    "import qkit.measure.samples_class as sc\n",
    "import matplotlib.pyplot as plt\n",
    "from qkit.analysis.circle_fit.circle_fit_2019 import circuit\n",
    "from scipy import signal as sg\n",
    "import qkit.analysis.qfit as qfit\n",
    "from importlib import reload\n",
    "import qkit.gui.notebook.Progress_Bar as Pb\n",
    "import qkit.measure.spectroscopy.spectroscopy as spectroscopy\n",
    "from importlib import reload\n",
    "import numpy as np\n",
    "import time"
   ]
  },
  {
   "cell_type": "code",
   "execution_count": 4,
   "id": "reflected-mentor",
   "metadata": {},
   "outputs": [],
   "source": [
    "caen = qkit.instruments.create('caen', 'Caen_FAST_PS', address='10.22.197.101')\n",
    "vna = qkit.instruments.create('vna', 'ZVA_40_VNA', address='GPIB0::20::INSTR')\n",
    "#hall_probe = qkit.instruments.create('hall_probe', 'Magnet_Physik_FH_54', address='ASRL3::INSTR')\n"
   ]
  },
  {
   "cell_type": "code",
   "execution_count": 5,
   "id": "environmental-analysis",
   "metadata": {},
   "outputs": [
    {
     "data": {
      "application/vnd.jupyter.widget-view+json": {
       "model_id": "f256184260c24b7eb275795948f6e54f",
       "version_major": 2,
       "version_minor": 0
      },
      "text/plain": [
       "HTML(value=\"<table style='width:100%'><tr><td> (0/1) </td><td>&#9992; 2022-07-22 (Fri) 13:30:12    </td><td>&#…"
      ]
     },
     "metadata": {},
     "output_type": "display_data"
    },
    {
     "data": {
      "application/vnd.jupyter.widget-view+json": {
       "model_id": "004633b18db64333aec87f4fbbc0e728",
       "version_major": 2,
       "version_minor": 0
      },
      "text/plain": [
       "IntProgress(value=0, description='VNA_tracedata', layout=Layout(width='95%'), max=1)"
      ]
     },
     "metadata": {},
     "output_type": "display_data"
    },
    {
     "name": "stdout",
     "output_type": "stream",
     "text": [
      "d:\\notebooks\\Adam_FMR\\Test_Rair_Py_21_07_22\\Rair\\RFF9EA_VNA_tracedata\\RFF9EA_VNA_tracedata.h5\n"
     ]
    },
    {
     "name": "stderr",
     "output_type": "stream",
     "text": [
      "C:\\anaconda3\\lib\\site-packages\\pyvisa\\resources\\messagebased.py:677: FutureWarning: ask_values is deprecated and will be removed in 1.10, use query_ascii_values or quey_binary_values instead.\n",
      "  'instead.', FutureWarning)\n",
      "C:\\anaconda3\\lib\\site-packages\\pyvisa\\resources\\messagebased.py:518: FutureWarning: read_values is deprecated and will be removed in 1.10, use read_ascii_values or read_binary_values instead.\n",
      "  'instead.', FutureWarning)\n",
      "C:\\anaconda3\\lib\\site-packages\\pyvisa\\util.py:266: FutureWarning: parse_binary is deprecated and will be removed in 1.10, use read_ascii_values or read_binary_values instead.\n",
      "  'instead.', FutureWarning)\n"
     ]
    },
    {
     "name": "stdout",
     "output_type": "stream",
     "text": [
      "Plots saved in d:\\notebooks\\Adam_FMR\\Test_Rair_Py_21_07_22\\Rair\\RFF9EA_VNA_tracedata\\images\n"
     ]
    }
   ],
   "source": [
    "smpl = sc.Sample()\n",
    "s = spectroscopy.spectrum(vna = vna, exp_name = '', sample = smpl)\n",
    "\n",
    "comment = \"\"\"\n",
    "    test to see VNA second PCB\n",
    "    \"\"\"\n",
    "s.comment = comment\n",
    "s.measure_1D()"
   ]
  },
  {
   "cell_type": "code",
   "execution_count": 6,
   "id": "provincial-pennsylvania",
   "metadata": {},
   "outputs": [
    {
     "data": {
      "text/plain": [
       "-0.00461567519233"
      ]
     },
     "execution_count": 6,
     "metadata": {},
     "output_type": "execute_result"
    }
   ],
   "source": [
    "caen.on()\n",
    "caen.get_current()"
   ]
  },
  {
   "cell_type": "code",
   "execution_count": 7,
   "id": "manufactured-embassy",
   "metadata": {},
   "outputs": [
    {
     "data": {
      "text/plain": [
       "True"
      ]
     },
     "execution_count": 7,
     "metadata": {},
     "output_type": "execute_result"
    }
   ],
   "source": [
    "vna.set_ifbandwidth(3e3)\n",
    "vna.set_power(-5)\n",
    "vna.set_startfreq(1.00e9) # use the correct values should be somewhere between 4 and 6 GHz\n",
    "vna.set_stopfreq(15.00e9)\n",
    "vna.set_nop(5001)"
   ]
  },
  {
   "cell_type": "code",
   "execution_count": 8,
   "id": "listed-powder",
   "metadata": {},
   "outputs": [],
   "source": [
    "start_current = 2.0\n",
    "stop_current = 3.2\n",
    "currents = np.arange(start_current, stop_current, 0.1)"
   ]
  },
  {
   "cell_type": "code",
   "execution_count": 9,
   "id": "black-athletics",
   "metadata": {},
   "outputs": [],
   "source": [
    "# change the current function accordingly\n",
    "s.set_x_parameters(currents, 'current', caen.ramp_current, 'A' )\n"
   ]
  },
  {
   "cell_type": "code",
   "execution_count": 10,
   "id": "patient-mumbai",
   "metadata": {},
   "outputs": [
    {
     "data": {
      "application/vnd.jupyter.widget-view+json": {
       "model_id": "fe5322b905814483adf2e18fd59d42f0",
       "version_major": 2,
       "version_minor": 0
      },
      "text/plain": [
       "HTML(value=\"<table style='width:100%'><tr><td> (0/39) </td><td>&#9992; 2022-07-22 (Fri) 13:31:19    </td><td>&…"
      ]
     },
     "metadata": {},
     "output_type": "display_data"
    },
    {
     "data": {
      "application/vnd.jupyter.widget-view+json": {
       "model_id": "0448d3612b1949398610a63cc443f305",
       "version_major": 2,
       "version_minor": 0
      },
      "text/plain": [
       "IntProgress(value=0, description='2D VNA sweep current', layout=Layout(width='95%'), max=39)"
      ]
     },
     "metadata": {},
     "output_type": "display_data"
    },
    {
     "name": "stderr",
     "output_type": "stream",
     "text": [
      "C:\\anaconda3\\lib\\site-packages\\pyvisa\\resources\\messagebased.py:677: FutureWarning: ask_values is deprecated and will be removed in 1.10, use query_ascii_values or quey_binary_values instead.\n",
      "  'instead.', FutureWarning)\n",
      "C:\\anaconda3\\lib\\site-packages\\pyvisa\\resources\\messagebased.py:518: FutureWarning: read_values is deprecated and will be removed in 1.10, use read_ascii_values or read_binary_values instead.\n",
      "  'instead.', FutureWarning)\n",
      "C:\\anaconda3\\lib\\site-packages\\pyvisa\\util.py:266: FutureWarning: parse_binary is deprecated and will be removed in 1.10, use read_ascii_values or read_binary_values instead.\n",
      "  'instead.', FutureWarning)\n"
     ]
    },
    {
     "name": "stdout",
     "output_type": "stream",
     "text": [
      "d:\\notebooks\\Adam_FMR\\Test_Rair_Py_21_07_22\\Rair\\RFF9EZ_2D_current\\RFF9EZ_2D_current.h5\n",
      "Plots saved in d:\\notebooks\\Adam_FMR\\Test_Rair_Py_21_07_22\\Rair\\RFF9EZ_2D_current\\images\n"
     ]
    },
    {
     "data": {
      "text/plain": [
       "True"
      ]
     },
     "execution_count": 10,
     "metadata": {},
     "output_type": "execute_result"
    }
   ],
   "source": [
    "comment = \"\"\"\n",
    "    Run test. CoRu PLATE, second PCB board with fibre glass support. \n",
    "    Ramping tranmsission line on CAENel from 0.5 to 2.5 A\n",
    "    \"\"\"\n",
    "s.comment = comment\n",
    "s.set_resonator_fit(fit_resonator=False)\n",
    "\n",
    "# x_func gets called for every value of i. Here it would be not necessary to define a function for only the ramp fct,\n",
    "# it will be useful in the next example.\n",
    "def x_func(i):\n",
    "    return caen.ramp_current(i, 1e-1)\n",
    "\n",
    "#s.set_log_function(func=[hall_probe.get_field], name=['Field'], unit=['mT'])\n",
    "\n",
    "s.set_x_parameters(x_vec = np.arange(0.1, 4.0, 0.1),\n",
    "                  x_coordname = 'current',\n",
    "                  x_set_obj = x_func,\n",
    "                  x_unit = 'A')\n",
    "\n",
    "\n",
    "s.measure_2D()\n",
    "caen.ramp_current(0, 3)"
   ]
  },
  {
   "cell_type": "code",
   "execution_count": 11,
   "id": "compatible-marking",
   "metadata": {},
   "outputs": [],
   "source": [
    "hdf1 = Data(r\"d:\\notebooks\\Adam_FMR/Test_Rair_Py_21_07_22/Rair/RFF9EZ_2D_current/RFF9EZ_2D_current.h5\")\n",
    "#hdf1 = Data(r\"d:\\notebooks\\Luke_LiFe_Tests/Test_Rair_FMR_CoRu_02_11_21/Luke/R1Y5D8_2D_current/R1Y5D8_2D_current.h5\")\n",
    "amp1 = np.transpose(hdf1.data.amplitude[:])\n",
    "amp1dB = 20*np.log10(amp1)\n",
    "freq1 = hdf1.data.frequency[:]/1e9\n",
    "current1 = hdf1.data.current[:]\n",
    "phase1 = np.transpose(np.unwrap(hdf1.data.phase))"
   ]
  },
  {
   "cell_type": "code",
   "execution_count": 12,
   "id": "discrete-salad",
   "metadata": {},
   "outputs": [],
   "source": [
    "hdf2 = Data(r\"d:\\notebooks\\Adam_FMR/Test_Rair_Py_21_07_22/Rair/RFF9EZ_2D_current/RFF9EZ_2D_current.h5\")\n",
    "amp2 = np.transpose(hdf2.data.amplitude[:])\n",
    "amp2dB = 20*np.log10(amp2)\n",
    "freq2 = hdf2.data.frequency[:]/1e9\n",
    "current2 = hdf2.data.current[:]\n",
    "phase2 = np.transpose(np.unwrap(hdf2.data.phase))"
   ]
  },
  {
   "cell_type": "code",
   "execution_count": 13,
   "id": "external-custom",
   "metadata": {},
   "outputs": [],
   "source": [
    "def NormalizeData(data):\n",
    "    return (data - min(data)) / (max(data) - min(data))\n"
   ]
  },
  {
   "cell_type": "code",
   "execution_count": 50,
   "id": "unlikely-walter",
   "metadata": {},
   "outputs": [
    {
     "name": "stdout",
     "output_type": "stream",
     "text": [
      "it works\n",
      "[       -inf -5.803161   -1.4909234  -1.4628924  -1.5780629  -1.6235173\n",
      " -1.673001   -1.9868666  -5.685911   -0.30651233 -0.39598    -0.33549103\n",
      "  0.         -0.42122704 -0.18409681 -0.44042695 -0.37825298 -0.1414969\n",
      " -0.6423559  -0.8832207  -0.746663   -0.82486415 -0.8640481  -1.1204003\n",
      " -0.7528838  -1.3162229  -1.2485566  -1.631524   -1.5901787  -2.5904276\n",
      " -2.517688   -2.8046427  -2.9233613  -4.071334   -7.6464987  -9.106177\n",
      " -8.551935   -8.265909   -8.411646  ]\n"
     ]
    },
    {
     "name": "stderr",
     "output_type": "stream",
     "text": [
      "C:\\anaconda3\\lib\\site-packages\\ipykernel_launcher.py:49: RuntimeWarning: divide by zero encountered in log10\n"
     ]
    }
   ],
   "source": [
    "rows1=amp1.shape[0]\n",
    "cols1=amp1.shape[1]\n",
    "\n",
    "#print(\"amp1 = \",amp1[1])\n",
    "test = NormalizeData(amp1[1])\n",
    "#print(\"normalised data = \",test)\n",
    "'''print(amp1.shape)\n",
    "print(amp1[1])\n",
    "print(NormalizeData(amp1[1]))'''\n",
    "\n",
    "\n",
    "\n",
    "namp1=np.zeros((rows1,cols1))\n",
    "namp1dB=np.zeros((rows1,cols1))\n",
    "nphase1=np.zeros((rows1,cols1))\n",
    "test1 = 0\n",
    "for x in range(0, cols1 - 1):\n",
    "    test1 = NormalizeData(amp1[x])\n",
    "    for y in range(0, rows1 -1):\n",
    "        #print(amp1[y,x], amp1[y,0])\n",
    "        #print(amp1[y,x]/amp1[y,0])\n",
    "        namp1[y,x]=(amp1[y,x]/amp1[y,0])\n",
    "        namp1dB[y,x]=20*np.log10(amp1[y,x])-20*np.log10(amp1[y,0])\n",
    "        nphase1[y,x] = phase1[y,x] - phase1[y,0]\n",
    "        \n",
    "if namp1dB.all() == test1.all():\n",
    "    print(\"it works\")\n",
    "else:\n",
    "    print(\"doesn't work\")\n",
    "        \n",
    "testnamp1=np.zeros((rows1,cols1))\n",
    "testamp1dB=np.zeros((rows1,cols1))\n",
    "testphase1=np.zeros((rows1,cols1))\n",
    "for x in range(0, cols1 - 1):\n",
    "    for y in range(0, rows1 -1):\n",
    "        namp1[y,x]=(amp1[y,x]/amp1[y,0])\n",
    "        namp1dB[y,x]=20*np.log10(amp1[y,x])-20*np.log10(amp1[y,0])\n",
    "        nphase1[y,x] = phase1[y,x] - phase1[y,0]\n",
    "for i in range(len(amp1)):\n",
    "    testamp1 = NormalizeData(amp1[i])\n",
    "    #testamp1dB = 20*np.log10()\n",
    "\n",
    "    \n",
    "    \n",
    "    \n",
    "    \n",
    "    \n",
    "for x in range(0, cols1 - 1):\n",
    "    testamp1dB = 20*np.log10(NormalizeData(amp1[x]))\n",
    "    testphase = NormalizeData(phase1[x])\n",
    "    \n",
    "    '''for y in range(0, rows1 -1):\n",
    "        namp1[y,x]=(amp1[y,x]/amp1[y,0])\n",
    "        namp1dB[y,x]=20*np.log10(amp1[y,x])-20*np.log10(amp1[y,0])\n",
    "        nphase1[y,x] = phase1[y,x] - phase1[y,0] '''   \n",
    "    \n",
    "print(testamp1dB)\n",
    "    \n",
    "\n",
    "#rows2=amp2.shape[0]\n",
    "#cols2=amp2.shape[1]\n",
    "\n",
    "#namp2=np.zeros((rows2,cols2))\n",
    "#namp2dB=np.zeros((rows2,cols2))\n",
    "#nphase2=np.zeros((rows2,cols2))\n",
    "#for x in range(0, cols2 - 1):\n",
    "#    for y in range(0, rows2 -1):\n",
    "#        namp2[y,x]=(amp2[y,x]/amp2[y,0])\n",
    "#        namp2dB[y,x]=20*np.log10(amp2[y,x])-20*np.log10(amp2[y,0])\n",
    "#        nphase2[y,x] = phase2[y,x] - phase2[y,0]\n",
    "\n",
    "#need"
   ]
  },
  {
   "cell_type": "code",
   "execution_count": 45,
   "id": "parliamentary-compact",
   "metadata": {},
   "outputs": [
    {
     "name": "stderr",
     "output_type": "stream",
     "text": [
      "C:\\anaconda3\\lib\\site-packages\\ipykernel_launcher.py:2: MatplotlibDeprecationWarning: shading='flat' when X and Y have the same dimensions as C is deprecated since 3.3.  Either specify the corners of the quadrilaterals with X and Y, or pass shading='auto', 'nearest' or 'gouraud', or set rcParams['pcolor.shading'].  This will become an error two minor releases later.\n",
      "  \n"
     ]
    },
    {
     "data": {
      "text/plain": [
       "Text(0, 0.5, 'Frequency [GHz]')"
      ]
     },
     "execution_count": 45,
     "metadata": {},
     "output_type": "execute_result"
    },
    {
     "data": {
      "image/png": "[encoded data removed]",
      "text/plain": [
       "<Figure size 936x720 with 2 Axes>"
      ]
     },
     "metadata": {
      "needs_background": "light"
     },
     "output_type": "display_data"
    }
   ],
   "source": [
    "plt.figure(figsize=(13,10))\n",
    "plt.pcolormesh(current1[:],freq1[:],testamp1dB[:])\n",
    "cb = plt.colorbar()\n",
    "cb.ax.tick_params(labelsize=18)\n",
    "plt.tick_params(labelsize=18)\n",
    "#plt.xticks(size = 18)\n",
    "#plt.yticks(size = 18)\n",
    "plt.title('Normalised Amplitude', fontsize=22)\n",
    "plt.xlabel('Current [A]', fontsize=18)\n",
    "plt.ylabel('Frequency [GHz]', fontsize=18)\n"
   ]
  },
  {
   "cell_type": "code",
   "execution_count": 12,
   "id": "apparent-clearing",
   "metadata": {},
   "outputs": [
    {
     "name": "stderr",
     "output_type": "stream",
     "text": [
      "C:\\anaconda3\\lib\\site-packages\\ipykernel_launcher.py:2: MatplotlibDeprecationWarning: shading='flat' when X and Y have the same dimensions as C is deprecated since 3.3.  Either specify the corners of the quadrilaterals with X and Y, or pass shading='auto', 'nearest' or 'gouraud', or set rcParams['pcolor.shading'].  This will become an error two minor releases later.\n",
      "  \n"
     ]
    },
    {
     "data": {
      "text/plain": [
       "Text(0, 0.5, 'Frequency [GHz]')"
      ]
     },
     "execution_count": 12,
     "metadata": {},
     "output_type": "execute_result"
    },
    {
     "data": {
      "image/png": "[encoded data removed]",
      "text/plain": [
       "<Figure size 936x720 with 2 Axes>"
      ]
     },
     "metadata": {
      "needs_background": "light"
     },
     "output_type": "display_data"
    }
   ],
   "source": [
    "plt.figure(figsize=(13,10))\n",
    "plt.pcolormesh(current1[:],freq1[:],namp1dB[:])\n",
    "cb = plt.colorbar()\n",
    "cb.ax.tick_params(labelsize=18)\n",
    "plt.tick_params(labelsize=18)\n",
    "#plt.xticks(size = 18)\n",
    "#plt.yticks(size = 18)\n",
    "plt.title('Normalised Amplitude', fontsize=22)\n",
    "plt.xlabel('Current [A]', fontsize=18)\n",
    "plt.ylabel('Frequency [GHz]', fontsize=18)\n",
    "\n",
    "#need"
   ]
  },
  {
   "cell_type": "code",
   "execution_count": null,
   "id": "tutorial-alfred",
   "metadata": {},
   "outputs": [],
   "source": []
  }
 ],
 "metadata": {
  "kernelspec": {
   "display_name": "Python 3",
   "language": "python",
   "name": "python3"
  },
  "language_info": {
   "codemirror_mode": {
    "name": "ipython",
    "version": 3
   },
   "file_extension": ".py",
   "mimetype": "text/x-python",
   "name": "python",
   "nbconvert_exporter": "python",
   "pygments_lexer": "ipython3",
   "version": "3.7.1"
  }
 },
 "nbformat": 4,
 "nbformat_minor": 5
}
